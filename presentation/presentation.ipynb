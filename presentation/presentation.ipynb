{
 "cells": [
  {
   "cell_type": "markdown",
   "metadata": {
    "slideshow": {
     "slide_type": "slide"
    }
   },
   "source": [
    "# Make For Data Science\n",
    "\n",
    "* David Marx @DigThatData\n",
    "* http://dmarx.github.io\n",
    "\n",
    "Demo available at: https://github.com/dmarx/make_for_datascience"
   ]
  },
  {
   "cell_type": "markdown",
   "metadata": {
    "slideshow": {
     "slide_type": "slide"
    }
   },
   "source": [
    "# Motivation"
   ]
  },
  {
   "cell_type": "markdown",
   "metadata": {
    "slideshow": {
     "slide_type": "subslide"
    }
   },
   "source": [
    "## How We Hurt Ourselves\n",
    "\n",
    "* Unnecessary code reproduction\n",
    "* Circular dependencies\n",
    "* Unreproducible results\n",
    "* Non-portable code\n",
    "* Lack of documentation\n",
    "* No standard project layout"
   ]
  },
  {
   "cell_type": "markdown",
   "metadata": {
    "slideshow": {
     "slide_type": "subslide"
    }
   },
   "source": [
    "## Use Cases/Pain Points\n",
    "\n",
    "* Evaluating competing models\n",
    "* Modify models/data, only need to refresh downstream dependencies\n",
    "* Navigating dependencies\n",
    "* Reducing \"spaghetti\" projects\n",
    "* Defining clear entry-point into the code base\n",
    "* On-boarding overhead\n",
    "* Data provenance overhead (i.e. debugging)\n",
    "* Reproducibility/portability"
   ]
  },
  {
   "cell_type": "markdown",
   "metadata": {
    "slideshow": {
     "slide_type": "subslide"
    }
   },
   "source": [
    "## Principles of a Solution\n",
    "\n",
    "* Low adoption LOE\n",
    "* Minimal external dependencies\n",
    "* OS agnostic\n",
    "* Tool agnostic\n",
    "* Encourage project standardization\n",
    "* Pipeline as a DAG\n",
    "* Pipeline VC-able\n",
    "* Pipeline as documentation\n",
    "\n"
   ]
  },
  {
   "cell_type": "markdown",
   "metadata": {
    "slideshow": {
     "slide_type": "slide"
    }
   },
   "source": [
    "# Pipeline Management (build tools)"
   ]
  },
  {
   "cell_type": "markdown",
   "metadata": {
    "slideshow": {
     "slide_type": "subslide"
    }
   },
   "source": [
    "## Why should I use a pipeline manager?\n",
    "\n",
    "* Eliminates circular dependencies\n",
    "* Simplifies only rebuilding objects whose dependencies have been modified\n",
    "* Defines a clear entry-point into the project\n",
    "* You're going to author a pipeline anyway (sometimes called a \"master script\", e.g. `read_data_and_fit_models.r`)"
   ]
  },
  {
   "cell_type": "markdown",
   "metadata": {
    "slideshow": {
     "slide_type": "subslide"
    }
   },
   "source": [
    "## Popular tools\n",
    "\n",
    "* Gnu Make\n",
    "* Spotify Luigi\n",
    "* Apache Airflow\n",
    "* Apache Ant\n",
    "* Waf (python)\n",
    "\n",
    "... https://en.wikipedia.org/wiki/List_of_build_automation_software"
   ]
  },
  {
   "cell_type": "markdown",
   "metadata": {
    "slideshow": {
     "slide_type": "slide"
    }
   },
   "source": [
    "# A Brief Intro To Gnu Make"
   ]
  },
  {
   "cell_type": "markdown",
   "metadata": {
    "slideshow": {
     "slide_type": "fragment"
    }
   },
   "source": [
    "https://www.gnu.org/software/make/manual/html_node/index.html#SEC_Contents"
   ]
  },
  {
   "cell_type": "markdown",
   "metadata": {
    "slideshow": {
     "slide_type": "subslide"
    }
   },
   "source": [
    "## Why Make?\n",
    "\n",
    "* Pre-installed on \\*NIX\n",
    "  * To use on windows requires cygwin (or some other Unix emulator) or a windows port like gnuwin32\n",
    "* Easy to use (if you KISS)\n",
    "* Automatically identifies modified dependencies\n",
    "* Long history of use, lots of tutorials/examples/documentation"
   ]
  },
  {
   "cell_type": "markdown",
   "metadata": {
    "slideshow": {
     "slide_type": "subslide"
    }
   },
   "source": [
    "## The Makefile\n",
    "\n",
    "* Rules\n",
    "* Special variables\n",
    "* Functions"
   ]
  },
  {
   "cell_type": "markdown",
   "metadata": {
    "slideshow": {
     "slide_type": "subslide"
    }
   },
   "source": [
    "# Make Rules"
   ]
  },
  {
   "cell_type": "markdown",
   "metadata": {
    "slideshow": {
     "slide_type": "subslide"
    }
   },
   "source": [
    "## Simple Rule\n",
    "\n",
    "```\n",
    "target: dependency\n",
    "    recipe\n",
    "```"
   ]
  },
  {
   "cell_type": "markdown",
   "metadata": {
    "slideshow": {
     "slide_type": "fragment"
    }
   },
   "source": [
    "NB: Spaces != Tabs: recipes need to be indented with tabs"
   ]
  },
  {
   "cell_type": "markdown",
   "metadata": {
    "slideshow": {
     "slide_type": "subslide"
    }
   },
   "source": [
    "## Pattern Rule\n",
    "\n",
    "```\n",
    "%.rdata: %.csv\n",
    "    Rscript read_data.r\n",
    "```"
   ]
  },
  {
   "cell_type": "markdown",
   "metadata": {
    "slideshow": {
     "slide_type": "subslide"
    }
   },
   "source": [
    "## Pattern Rule: Semantic Folder Structure\n",
    "\n",
    "```\n",
    "models/%.rdata: data/%.rdata\n",
    "    Rscript fit_model.r \n",
    "```"
   ]
  },
  {
   "cell_type": "markdown",
   "metadata": {
    "slideshow": {
     "slide_type": "subslide"
    }
   },
   "source": [
    "# Make Variables"
   ]
  },
  {
   "cell_type": "markdown",
   "metadata": {
    "slideshow": {
     "slide_type": "subslide"
    }
   },
   "source": [
    "## Automatic Variables"
   ]
  },
  {
   "cell_type": "markdown",
   "metadata": {
    "slideshow": {
     "slide_type": "fragment"
    }
   },
   "source": [
    "* \\$@: The first target\n",
    "\n",
    "```\n",
    "models/%.rdata: train_and_save_model.r data/basetable.rdata code/models/%.r \n",
    "    Rscript train_and_save_model.r $@\n",
    "```"
   ]
  },
  {
   "cell_type": "markdown",
   "metadata": {
    "slideshow": {
     "slide_type": "fragment"
    }
   },
   "source": [
    "* \\$<: The first pre-requisite\n",
    "\n",
    "```\n",
    "models/%.rdata: train_and_save_model.r data/basetable.rdata code/models/%.r \n",
    "    Rscript $< $@\n",
    "```"
   ]
  },
  {
   "cell_type": "markdown",
   "metadata": {
    "slideshow": {
     "slide_type": "subslide"
    }
   },
   "source": [
    "## Declared Variables"
   ]
  },
  {
   "cell_type": "markdown",
   "metadata": {
    "slideshow": {
     "slide_type": "fragment"
    }
   },
   "source": [
    "* '=' : Recursive (i.e. lazy) expansion\n",
    "  * Values are defined verbatim via text substitution\n",
    "  * If assigning from another variable, that variable is not evaluated: the text invoking it is what gets assigned"
   ]
  },
  {
   "cell_type": "markdown",
   "metadata": {
    "slideshow": {
     "slide_type": "subslide"
    }
   },
   "source": [
    "Running the following Makefile\n",
    "\n",
    "```\n",
    "foo = $(bar)\n",
    "bar = $(ugh)\n",
    "ugh = Huh?\n",
    "\n",
    "all:\n",
    "    echo $(foo)\n",
    "```\n",
    "will echo \"Huh?\": \n",
    "\n",
    "`$(foo)` expands to \"\\$(bar)\" which expands to \"\\$(ugh)\" which finally expands to \"Huh?\"."
   ]
  },
  {
   "cell_type": "markdown",
   "metadata": {
    "slideshow": {
     "slide_type": "subslide"
    }
   },
   "source": [
    "## Declared Variables\n",
    "\n",
    "* **=** \n",
    "  * Recursive (i.e. lazy) expansion\n",
    "  * Values are defined verbatim via text substitution\n",
    "  * If assigning from another variable, that variable is not evaluated: the text invoking it is what gets assigned\n",
    "\n",
    "* **:=** \n",
    "  * Simple expansion \n",
    "  * About as close to \"immediate\" as we can get\n",
    "  * Applies value at time of assignment (if you're careful)\n",
    "  * Really, nothing is for sure until the Makefile is fully compiled"
   ]
  },
  {
   "cell_type": "markdown",
   "metadata": {
    "slideshow": {
     "slide_type": "subslide"
    }
   },
   "source": [
    "```\n",
    "x := foo\n",
    "y := $(x) bar\n",
    "x := baz\n",
    "```\n",
    "\n",
    "is equivalent to\n",
    "\n",
    "```\n",
    "y := foo bar\n",
    "x := baz\n",
    "```"
   ]
  },
  {
   "cell_type": "markdown",
   "metadata": {
    "slideshow": {
     "slide_type": "subslide"
    }
   },
   "source": [
    "# HERE THERE BE DRAGONS"
   ]
  },
  {
   "cell_type": "markdown",
   "metadata": {
    "slideshow": {
     "slide_type": "subslide"
    }
   },
   "source": [
    "```\n",
    "x := foo\n",
    "\n",
    "test::\n",
    "\techo FIRST $(x)\n",
    "    \n",
    "x := bar\n",
    "\n",
    "test::\n",
    "\techo SECOND $(x)\n",
    "```"
   ]
  },
  {
   "cell_type": "markdown",
   "metadata": {
    "slideshow": {
     "slide_type": "fragment"
    }
   },
   "source": [
    "will not echo:\n",
    "\n",
    "```\n",
    "FIRST foo\n",
    "SECOND bar\n",
    "```"
   ]
  },
  {
   "cell_type": "markdown",
   "metadata": {
    "slideshow": {
     "slide_type": "fragment"
    }
   },
   "source": [
    "but rather:"
   ]
  },
  {
   "cell_type": "markdown",
   "metadata": {
    "slideshow": {
     "slide_type": "fragment"
    }
   },
   "source": [
    "```\n",
    "FIRST bar\n",
    "SECOND bar\n",
    "```"
   ]
  },
  {
   "cell_type": "markdown",
   "metadata": {
    "slideshow": {
     "slide_type": "subslide"
    }
   },
   "source": [
    "> ## 3.7 How make Reads a Makefile\n",
    "\n",
    "> GNU make does its work in **two distinct phases**. During the first phase it reads all the makefiles, included makefiles, etc. and internalizes all the variables and their values, implicit and explicit rules, and constructs a dependency graph of all the targets and their prerequisites. During the second phase, make uses these internal structures to determine what targets will need to be rebuilt and to invoke the rules necessary to do so.\n",
    "\n",
    "> It’s important to understand this two-phase approach because it has a direct impact on how variable and function expansion happens; **this is often a source of some confusion** when writing makefiles.\n",
    "\n",
    "-- https://www.gnu.org/software/make/manual/html_node/Reading-Makefiles.html#Reading-Makefiles"
   ]
  },
  {
   "cell_type": "markdown",
   "metadata": {},
   "source": [
    "## Functions\n",
    "\n",
    "There are a ton of different functions. Here are a few that I find especially useful\n",
    "\n",
    "* $(**patsubst** pattern,replacement,text)\n",
    "  * Pattern substitution\n",
    "  * `$(patsubst foo/%.bar,%.baz,foo/fname.bar)` :  -> `fname.baz`\n",
    "  \n",
    "* $(**wildcard** pattern)\n",
    "  * Return a space-seperated list of filenames matching pattern\n",
    "  * `$(wildcard data/*.csv)` -> `raw.csv results.csv errors.csv`\n",
    "  \n",
    "* $(**dir** names…)\n",
    "  * Directory extraction\n",
    "  * `$(dir path/to/file.txt foo/bar.csv)` : -> 'path/to/ foo/`\n",
    "  \n",
    "* $(**notdir** names…)\n",
    "  * Non-directory part of file name\n",
    "  * `$(dir path/to/file.txt foo/bar.csv)` : -> 'file.txt bar.csv'\n",
    "  \n",
    "* $(**shell** statement)\n",
    "  * Let's you run shell commands anywhere in the makefile (i.e. outside of recipes, where you already can)\n",
    "  \n",
    "* $(**eval** statement)\n",
    "  * Evaluate makefile syntax\n",
    "  * Expanded twice: first by eval function, *then again* during the second phase when the makefile is actually \"run\"\n",
    "  * Allows us to define and invoke Make variables (actually) immediately inside recipes\n",
    "  "
   ]
  },
  {
   "cell_type": "markdown",
   "metadata": {},
   "source": [
    "## The \\$(eval ...) Trick\n",
    "\n",
    "```\n",
    "x := who\n",
    "\n",
    "v1 = first/path\n",
    "$(v1)_x := foo\n",
    "\n",
    "test::\n",
    "    $(eval x := $($(v1)_x))\n",
    "    echo FIRST $(x)\n",
    "    \n",
    "x := cares\n",
    "\n",
    "v2 = second/path\n",
    "$(v2)_x := bar\n",
    "\n",
    "test::\n",
    "    $(eval x := $($(v2)_x))\n",
    "    echo SECOND $(x)\n",
    "```\n",
    "\n",
    "\n",
    "will echo:\n",
    "\n",
    "```\n",
    "FIRST foo\n",
    "SECOND bar\n",
    "```\n",
    "  \n",
    "rather than:\n",
    "    \n",
    "```\n",
    "FIRST cares\n",
    "SECOND cares\n",
    "```\n"
   ]
  },
  {
   "cell_type": "markdown",
   "metadata": {
    "slideshow": {
     "slide_type": "slide"
    }
   },
   "source": [
    "# \"The System\""
   ]
  },
  {
   "cell_type": "markdown",
   "metadata": {
    "slideshow": {
     "slide_type": "subslide"
    }
   },
   "source": [
    "## Pipeline entities\n",
    "\n",
    "* raw data \"getters\"\n",
    "* raw data\n",
    "* features\n",
    "* analytic base tables\n",
    "* modeling tasks\n",
    "* models\n",
    "* model evaluation strategies"
   ]
  }
 ],
 "metadata": {
  "celltoolbar": "Slideshow",
  "kernelspec": {
   "display_name": "Python 2",
   "language": "python",
   "name": "python2"
  },
  "language_info": {
   "codemirror_mode": {
    "name": "ipython",
    "version": 2
   },
   "file_extension": ".py",
   "mimetype": "text/x-python",
   "name": "python",
   "nbconvert_exporter": "python",
   "pygments_lexer": "ipython2",
   "version": "2.7.11"
  }
 },
 "nbformat": 4,
 "nbformat_minor": 2
}
