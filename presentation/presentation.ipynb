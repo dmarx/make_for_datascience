{
 "cells": [
  {
   "cell_type": "code",
   "execution_count": 1,
   "metadata": {
    "collapsed": false
   },
   "outputs": [
    {
     "data": {
      "text/html": [
       "<script>\n",
       "code_show=true; \n",
       "function code_toggle() {\n",
       " if (code_show){\n",
       " $('div.input').hide();\n",
       " } else {\n",
       " $('div.input').show();\n",
       " }\n",
       " code_show = !code_show\n",
       "} \n",
       "$( document ).ready(code_toggle);\n",
       "</script>\n",
       "The raw code for this IPython notebook is by default hidden for easier reading.\n",
       "To toggle on/off the raw code, click <a href=\"javascript:code_toggle()\">here</a>."
      ],
      "text/plain": [
       "<IPython.core.display.HTML object>"
      ]
     },
     "execution_count": 1,
     "metadata": {},
     "output_type": "execute_result"
    }
   ],
   "source": [
    "from IPython.core.display import HTML\n",
    "import urllib2\n",
    "\n",
    "import networkx as nx\n",
    "import matplotlib.pyplot as plt\n",
    "import numpy as np\n",
    "from collections import defaultdict\n",
    "%matplotlib inline\n",
    "\n",
    "\n",
    "HTML('''<script>\n",
    "code_show=true; \n",
    "function code_toggle() {\n",
    " if (code_show){\n",
    " $('div.input').hide();\n",
    " } else {\n",
    " $('div.input').show();\n",
    " }\n",
    " code_show = !code_show\n",
    "} \n",
    "$( document ).ready(code_toggle);\n",
    "</script>\n",
    "The raw code for this IPython notebook is by default hidden for easier reading.\n",
    "To toggle on/off the raw code, click <a href=\"javascript:code_toggle()\">here</a>.''')"
   ]
  },
  {
   "cell_type": "markdown",
   "metadata": {
    "slideshow": {
     "slide_type": "slide"
    }
   },
   "source": [
    "# Effective Data Science Pipelines\n",
    "\n",
    "* David Marx @DigThatData\n",
    "* http://dmarx.github.io\n",
    "\n",
    "Demo available at: https://github.com/dmarx/make_for_datascience"
   ]
  },
  {
   "cell_type": "markdown",
   "metadata": {
    "slideshow": {
     "slide_type": "slide"
    }
   },
   "source": [
    "# Motivation"
   ]
  },
  {
   "cell_type": "markdown",
   "metadata": {
    "slideshow": {
     "slide_type": "subslide"
    }
   },
   "source": [
    "## How We Hurt Ourselves\n",
    "\n",
    "* Unnecessary code reproduction\n",
    "* Circular dependencies\n",
    "* Unreproducible results\n",
    "* Non-portable code\n",
    "* Lack of documentation\n",
    "* No standard project layout"
   ]
  },
  {
   "cell_type": "markdown",
   "metadata": {
    "slideshow": {
     "slide_type": "subslide"
    }
   },
   "source": [
    "## Use Cases/Pain Points\n",
    "\n",
    "* Evaluating competing models\n",
    "* Modify models/data, only need to refresh downstream dependencies\n",
    "* Navigating dependencies\n",
    "* Reducing \"spaghetti\" projects\n",
    "* Defining clear entry-point into the code base\n",
    "* On-boarding overhead\n",
    "* Data provenance overhead (i.e. debugging)\n",
    "* Reproducibility/portability"
   ]
  },
  {
   "cell_type": "markdown",
   "metadata": {
    "slideshow": {
     "slide_type": "subslide"
    }
   },
   "source": [
    "## Principles of a Solution\n",
    "\n",
    "* Low adoption LOE\n",
    "* Minimal external dependencies\n",
    "* OS agnostic\n",
    "* Tool agnostic\n",
    "* Encourage project standardization\n",
    "* Compatible with version control\n",
    "* Self-documenting\n",
    "* Different functional elements should be isolated from each other\n"
   ]
  },
  {
   "cell_type": "markdown",
   "metadata": {
    "slideshow": {
     "slide_type": "slide"
    }
   },
   "source": [
    "# Pipeline Management"
   ]
  },
  {
   "cell_type": "markdown",
   "metadata": {
    "slideshow": {
     "slide_type": "subslide"
    }
   },
   "source": [
    "## What do pipelines do for us?\n",
    "\n",
    "* Ensure process with multiple steps across several files is run in correct sequence\n",
    "* Help us create objects that don't exist\n",
    "* Help us rebuild objects after dependencies have been modified\n",
    "* Defines a clear entry-point into the project"
   ]
  },
  {
   "cell_type": "markdown",
   "metadata": {
    "slideshow": {
     "slide_type": "subslide"
    }
   },
   "source": [
    "## What else *can* pipelines do for us?\n",
    "\n",
    "* Identify/eliminate circular dependencies\n",
    "* Constrain build to only objects that need to be created/refreshed"
   ]
  },
  {
   "cell_type": "markdown",
   "metadata": {
    "slideshow": {
     "slide_type": "subslide"
    }
   },
   "source": [
    "## Why should I use a pipeline manager?"
   ]
  },
  {
   "cell_type": "markdown",
   "metadata": {
    "slideshow": {
     "slide_type": "fragment"
    }
   },
   "source": [
    "You're going to author a pipeline anyway (sometimes called a \"master script\", e.g. `read_data_and_fit_models.r`). May as well do it right."
   ]
  },
  {
   "cell_type": "markdown",
   "metadata": {
    "slideshow": {
     "slide_type": "subslide"
    }
   },
   "source": [
    "## Popular tools\n",
    "\n",
    "* Gnu Make\n",
    "* Spotify Luigi\n",
    "* Apache Airflow\n",
    "* Apache Ant\n",
    "* Waf (python)\n",
    "\n",
    "... https://en.wikipedia.org/wiki/List_of_build_automation_software"
   ]
  },
  {
   "cell_type": "markdown",
   "metadata": {
    "slideshow": {
     "slide_type": "slide"
    }
   },
   "source": [
    "# A Brief Intro To Gnu Make"
   ]
  },
  {
   "cell_type": "markdown",
   "metadata": {
    "slideshow": {
     "slide_type": "fragment"
    }
   },
   "source": [
    "https://www.gnu.org/software/make/manual/html_node/index.html#SEC_Contents"
   ]
  },
  {
   "cell_type": "markdown",
   "metadata": {
    "slideshow": {
     "slide_type": "subslide"
    }
   },
   "source": [
    "## Why Make?\n",
    "\n",
    "* Pre-installed on \\*NIX\n",
    "  * To use on windows requires cygwin (or some other Unix emulator) or a windows port like gnuwin32\n",
    "* Easy to use (if you KISS)\n",
    "* Automatically identifies modified dependencies\n",
    "* Long history of use, lots of tutorials/examples/documentation"
   ]
  },
  {
   "cell_type": "markdown",
   "metadata": {
    "slideshow": {
     "slide_type": "subslide"
    }
   },
   "source": [
    "## The Makefile\n",
    "\n",
    "* Rules\n",
    "* Special variables\n",
    "* Functions"
   ]
  },
  {
   "cell_type": "markdown",
   "metadata": {
    "slideshow": {
     "slide_type": "subslide"
    }
   },
   "source": [
    "# Make Rules"
   ]
  },
  {
   "cell_type": "markdown",
   "metadata": {
    "slideshow": {
     "slide_type": "subslide"
    }
   },
   "source": [
    "## Simple Rule\n",
    "\n",
    "```\n",
    "target: dependency\n",
    "    recipe\n",
    "```"
   ]
  },
  {
   "cell_type": "markdown",
   "metadata": {
    "slideshow": {
     "slide_type": "fragment"
    }
   },
   "source": [
    "NB: Spaces != Tabs: recipes need to be indented with tabs"
   ]
  },
  {
   "cell_type": "markdown",
   "metadata": {
    "slideshow": {
     "slide_type": "subslide"
    }
   },
   "source": [
    "## Pattern Rule\n",
    "\n",
    "```\n",
    "%.rdata: %.csv\n",
    "    Rscript read_data.r\n",
    "```"
   ]
  },
  {
   "cell_type": "markdown",
   "metadata": {
    "slideshow": {
     "slide_type": "subslide"
    }
   },
   "source": [
    "## Pattern Rule: Semantic Folder Structure\n",
    "\n",
    "```\n",
    "models/%.rdata: data/%.rdata\n",
    "    Rscript fit_model.r \n",
    "```"
   ]
  },
  {
   "cell_type": "markdown",
   "metadata": {
    "slideshow": {
     "slide_type": "subslide"
    }
   },
   "source": [
    "# Make Variables"
   ]
  },
  {
   "cell_type": "markdown",
   "metadata": {
    "slideshow": {
     "slide_type": "subslide"
    }
   },
   "source": [
    "## Automatic Variables"
   ]
  },
  {
   "cell_type": "markdown",
   "metadata": {
    "slideshow": {
     "slide_type": "fragment"
    }
   },
   "source": [
    "* \\$@: The first target\n",
    "\n",
    "```\n",
    "models/%.rdata: train_and_save_model.r data/basetable.rdata code/models/%.r \n",
    "    Rscript train_and_save_model.r $@\n",
    "```"
   ]
  },
  {
   "cell_type": "markdown",
   "metadata": {
    "slideshow": {
     "slide_type": "fragment"
    }
   },
   "source": [
    "* \\$<: The first pre-requisite\n",
    "\n",
    "```\n",
    "models/%.rdata: train_and_save_model.r data/basetable.rdata code/models/%.r \n",
    "    Rscript $< $@\n",
    "```"
   ]
  },
  {
   "cell_type": "markdown",
   "metadata": {
    "slideshow": {
     "slide_type": "subslide"
    }
   },
   "source": [
    "## Declared Variables"
   ]
  },
  {
   "cell_type": "markdown",
   "metadata": {
    "slideshow": {
     "slide_type": "fragment"
    }
   },
   "source": [
    "### varName = value\n",
    "\n",
    "* Recursive (i.e. lazy) expansion\n",
    "* Values are defined verbatim via text substitution\n",
    "* If assigning from another variable, that variable is not evaluated: the text invoking it is what gets assigned"
   ]
  },
  {
   "cell_type": "markdown",
   "metadata": {
    "slideshow": {
     "slide_type": "subslide"
    }
   },
   "source": [
    "Running the following Makefile\n",
    "\n",
    "```\n",
    "foo = $(bar)\n",
    "bar = $(ugh)\n",
    "ugh = Huh?\n",
    "\n",
    "all:\n",
    "    echo $(foo)\n",
    "```\n",
    "will echo \"Huh?\": \n",
    "\n",
    "`$(foo)` expands to \"\\$(bar)\" which expands to \"\\$(ugh)\" which finally expands to \"Huh?\"."
   ]
  },
  {
   "cell_type": "markdown",
   "metadata": {
    "slideshow": {
     "slide_type": "subslide"
    }
   },
   "source": [
    "## Declared Variables (pt.2)\n",
    "\n",
    "### varName := value\n",
    "\n",
    "  * Simple expansion \n",
    "  * About as close to \"immediate\" as we can get\n",
    "  * Applies value at time of assignment (if you're careful)\n",
    "  * Really, nothing is for sure until the Makefile is fully compiled"
   ]
  },
  {
   "cell_type": "markdown",
   "metadata": {
    "slideshow": {
     "slide_type": "subslide"
    }
   },
   "source": [
    "```\n",
    "x := foo\n",
    "y := $(x) bar\n",
    "x := baz\n",
    "```\n",
    "\n",
    "is equivalent to\n",
    "\n",
    "```\n",
    "y := foo bar\n",
    "x := baz\n",
    "```"
   ]
  },
  {
   "cell_type": "markdown",
   "metadata": {
    "slideshow": {
     "slide_type": "subslide"
    }
   },
   "source": [
    "# HERE THERE BE DRAGONS"
   ]
  },
  {
   "cell_type": "markdown",
   "metadata": {
    "slideshow": {
     "slide_type": "subslide"
    }
   },
   "source": [
    "```\n",
    "x := foo\n",
    "\n",
    "test::\n",
    "\techo FIRST $(x)\n",
    "    \n",
    "x := bar\n",
    "\n",
    "test::\n",
    "\techo SECOND $(x)\n",
    "```"
   ]
  },
  {
   "cell_type": "markdown",
   "metadata": {
    "slideshow": {
     "slide_type": "fragment"
    }
   },
   "source": [
    "will not echo:\n",
    "\n",
    "```\n",
    "FIRST foo\n",
    "SECOND bar\n",
    "```"
   ]
  },
  {
   "cell_type": "markdown",
   "metadata": {
    "slideshow": {
     "slide_type": "fragment"
    }
   },
   "source": [
    "but rather:"
   ]
  },
  {
   "cell_type": "markdown",
   "metadata": {
    "slideshow": {
     "slide_type": "fragment"
    }
   },
   "source": [
    "```\n",
    "FIRST bar\n",
    "SECOND bar\n",
    "```"
   ]
  },
  {
   "cell_type": "markdown",
   "metadata": {
    "slideshow": {
     "slide_type": "subslide"
    }
   },
   "source": [
    "> ## 3.7 How make Reads a Makefile\n",
    "\n",
    "> GNU make does its work in **two distinct phases**. During the first phase it reads all the makefiles, included makefiles, etc. and internalizes all the variables and their values, implicit and explicit rules, and constructs a dependency graph of all the targets and their prerequisites. During the second phase, make uses these internal structures to determine what targets will need to be rebuilt and to invoke the rules necessary to do so.\n",
    "\n",
    "> It’s important to understand this two-phase approach because it has a direct impact on how variable and function expansion happens; **this is often a source of some confusion** when writing makefiles.\n",
    "\n",
    "-- https://www.gnu.org/software/make/manual/html_node/Reading-Makefiles.html#Reading-Makefiles"
   ]
  },
  {
   "cell_type": "markdown",
   "metadata": {
    "slideshow": {
     "slide_type": "subslide"
    }
   },
   "source": [
    "## Functions\n",
    "\n",
    "There are a ton of different functions. Here are a few that I find especially useful\n",
    "\n",
    "* $(**patsubst** pattern,replacement,text)\n",
    "  * Pattern substitution\n",
    "  * `$(patsubst foo/%.bar,%.baz,foo/fname.bar)` :  -> `fname.baz`\n",
    "  \n",
    "* $(**wildcard** pattern)\n",
    "  * Return a space-seperated list of filenames matching pattern\n",
    "  * `$(wildcard data/*.csv)` -> `raw.csv results.csv errors.csv`\n",
    "  \n",
    "* $(**dir** names…)\n",
    "  * Directory extraction\n",
    "  * `$(dir path/to/file.txt foo/bar.csv)` : -> 'path/to/ foo/`\n",
    "  \n",
    "* $(**notdir** names…)\n",
    "  * Non-directory part of file name\n",
    "  * `$(dir path/to/file.txt foo/bar.csv)` : -> 'file.txt bar.csv'\n",
    "  \n",
    "* $(**shell** statement)\n",
    "  * Let's you run shell commands anywhere in the makefile (i.e. outside of recipes, where you already can)\n",
    "  \n",
    "* $(**eval** statement)\n",
    "  * Evaluate makefile syntax\n",
    "  * Expanded twice: first by eval function, *then again* during the second phase when the makefile is actually \"run\"\n",
    "  * Allows us to define and invoke Make variables (actually) immediately inside recipes\n",
    "  "
   ]
  },
  {
   "cell_type": "markdown",
   "metadata": {
    "slideshow": {
     "slide_type": "subslide"
    }
   },
   "source": [
    "## The \\$(eval ...) Trick\n",
    "\n",
    "* Use a prefix to define a new variable name\n",
    "* Use the `$(eval ...)` function to evaluate the prefix and variable value, and assign that into our \"common\" variable\n",
    "  * This will probably seem redundant, but you'll see how it's useful in a bit\n"
   ]
  },
  {
   "cell_type": "markdown",
   "metadata": {
    "slideshow": {
     "slide_type": "subslide"
    }
   },
   "source": [
    "```\n",
    "x := who\n",
    "\n",
    "v1 = first/path\n",
    "$(v1)_x := foo\n",
    "\n",
    "test::\n",
    "    $(eval x := $($(v1)_x))\n",
    "    echo FIRST $(x)\n",
    "    \n",
    "x := cares\n",
    "\n",
    "v2 = second/path\n",
    "$(v2)_x := bar\n",
    "\n",
    "test::\n",
    "    $(eval x := $($(v2)_x))\n",
    "    echo SECOND $(x)\n",
    "```\n",
    "\n",
    "\n",
    "will echo:\n",
    "\n",
    "```\n",
    "FIRST foo\n",
    "SECOND bar\n",
    "```\n",
    "  \n",
    "rather than:\n",
    "    \n",
    "```\n",
    "FIRST cares\n",
    "SECOND cares\n",
    "```\n"
   ]
  },
  {
   "cell_type": "markdown",
   "metadata": {
    "slideshow": {
     "slide_type": "slide"
    }
   },
   "source": [
    "# Data Science Pipelines with Make"
   ]
  },
  {
   "cell_type": "markdown",
   "metadata": {
    "slideshow": {
     "slide_type": "subslide"
    }
   },
   "source": [
    "## Pipeline entities\n",
    "\n",
    "* The \"Common\" Pipeline (data ingestion, ETL, feature engineering)\n",
    "    * Raw data \"getters\"\n",
    "    * Raw data\n",
    "    * Features\n",
    "* A \"Modeling Task\"\n",
    "    * Analytic base table\n",
    "    * Models\n",
    "    * Model Evaluation strategies"
   ]
  },
  {
   "cell_type": "code",
   "execution_count": 2,
   "metadata": {
    "collapsed": false
   },
   "outputs": [],
   "source": [
    "np.random.seed(111)\n",
    "\n",
    "common = [\n",
    "    [\"internet\", \"scraper\"],\n",
    "    [\"database\", \"db queries\"],\n",
    "    [\"scraper\", \"raw data 0\"],\n",
    "    [\"db queries\", \"raw data 1\"],\n",
    "    [\"local storage\", \"raw data 2\"]\n",
    "    ]\n",
    "\n",
    "j = 0\n",
    "for i in range(3):\n",
    "    common.append([\"raw data \" + str(i), \"features \" + str(j)])\n",
    "    j+=1\n",
    "    \n",
    "common.append([\"raw data \" + str(i), \"features \" + str(3)])\n",
    "\n",
    "n_tasks = 2\n",
    "tasks = defaultdict(list)\n",
    "for i in range(n_tasks):\n",
    "    k = []\n",
    "    n=2\n",
    "    while len(k)!=n:\n",
    "        k = set(np.random.randint(low=1, high=2*n_tasks, size=n))\n",
    "    task = \"task\" + str(i)\n",
    "    for j in k:\n",
    "        tasks[task].append([\"features \" + str(j), task + \" ABT\"])\n",
    "        \n",
    "models = defaultdict(list)\n",
    "for i in range(n_tasks):\n",
    "    for j in range(2):\n",
    "        task = \"task\" + str(i)\n",
    "        task_model =  task + \"model\" + str(j)\n",
    "        tasks[task].append([task + \" ABT\", task_model])\n",
    "        models[task].append(task_model)\n",
    "        \n",
    "for ev in [\"bootstrap\", \"target shuffle\", \"holdout\"]:\n",
    "    i=0\n",
    "    for task, task_models in models.iteritems():\n",
    "        for mod in task_models:\n",
    "            mod_eval = ev + str(i)\n",
    "            tasks[task].append([mod, mod_eval])\n",
    "            i+=1\n",
    "            \n",
    "def get_giant_component(g):\n",
    "    n=0\n",
    "    main_comp = None\n",
    "    for comp in nx.components.weakly_connected_component_subgraphs(g):\n",
    "        if len(comp) > n:\n",
    "            n = len(comp)\n",
    "            main_comp = comp\n",
    "    return main_comp"
   ]
  },
  {
   "cell_type": "code",
   "execution_count": 3,
   "metadata": {
    "collapsed": false,
    "slideshow": {
     "slide_type": "subslide"
    }
   },
   "outputs": [
    {
     "data": {
      "image/png": "[encoded data removed]",
      "text/plain": [
       "<matplotlib.figure.Figure at 0x390ba90>"
      ]
     },
     "metadata": {},
     "output_type": "display_data"
    }
   ],
   "source": [
    "g = nx.DiGraph()\n",
    "g.add_edges_from(common)\n",
    "\n",
    "np.random.seed(111)\n",
    "pos = nx.spring_layout(g,k=0.2, iterations = 20) \n",
    "nx.draw(g, pos=pos, with_labels='true')\n",
    "plt.title('\"Common\" Data Pipeline')\n",
    "plt.show()"
   ]
  },
  {
   "cell_type": "code",
   "execution_count": 4,
   "metadata": {
    "collapsed": false,
    "slideshow": {
     "slide_type": "subslide"
    }
   },
   "outputs": [
    {
     "data": {
      "image/png": "[encoded data removed]",
      "text/plain": [
       "<matplotlib.figure.Figure at 0x395f3c8>"
      ]
     },
     "metadata": {},
     "output_type": "display_data"
    }
   ],
   "source": [
    "g = nx.DiGraph()\n",
    "g.add_edges_from(tasks['task0'])\n",
    "g = get_giant_component(g)\n",
    "\n",
    "np.random.seed(111)\n",
    "pos = nx.spring_layout(g,k=0.15, iterations = 25) \n",
    "nx.draw(g, pos=pos, with_labels='true')\n",
    "plt.title(\"(Downstream) Modeling Task\")\n",
    "plt.show()"
   ]
  },
  {
   "cell_type": "code",
   "execution_count": 5,
   "metadata": {
    "collapsed": false,
    "slideshow": {
     "slide_type": "subslide"
    }
   },
   "outputs": [
    {
     "data": {
      "image/png": "[encoded data removed]",
      "text/plain": [
       "<matplotlib.figure.Figure at 0x7be5f28>"
      ]
     },
     "metadata": {},
     "output_type": "display_data"
    }
   ],
   "source": [
    "g = nx.DiGraph()\n",
    "g.add_edges_from(common)\n",
    "g.add_edges_from(tasks['task0'])\n",
    "g = get_giant_component(g)\n",
    "\n",
    "np.random.seed(333)\n",
    "pos = nx.spring_layout(g,k=0.08, iterations = 20) \n",
    "nx.draw(g, pos = pos, with_labels='true')\n",
    "plt.title(\"Modeling task + Upstream Data ETL\")\n",
    "plt.show()"
   ]
  },
  {
   "cell_type": "code",
   "execution_count": 6,
   "metadata": {
    "collapsed": false,
    "slideshow": {
     "slide_type": "subslide"
    }
   },
   "outputs": [
    {
     "data": {
      "image/png": "[encoded data removed]",
      "text/plain": [
       "<matplotlib.figure.Figure at 0x7815da0>"
      ]
     },
     "metadata": {},
     "output_type": "display_data"
    }
   ],
   "source": [
    "g = nx.DiGraph()\n",
    "g.add_edges_from(common)\n",
    "g.add_edges_from(tasks['task0'])\n",
    "g.add_edges_from(tasks['task1'])\n",
    "g = get_giant_component(g)\n",
    "\n",
    "np.random.seed(111)\n",
    "#pos = nx.spring_layout(g,k=0.10, iterations = 15) \n",
    "pos = nx.spring_layout(g,k=0.10, iterations = 25) \n",
    "nx.draw(g, pos=pos, with_labels='true')\n",
    "plt.title(\"Full Pipeline, Multiple Tasks\")\n",
    "plt.show()"
   ]
  },
  {
   "cell_type": "markdown",
   "metadata": {
    "slideshow": {
     "slide_type": "subslide"
    }
   },
   "source": [
    "## A minimal pipeline\n",
    "\n",
    "* Don't need to be fancy: specify targets and dependencies explicitly"
   ]
  },
  {
   "cell_type": "markdown",
   "metadata": {
    "slideshow": {
     "slide_type": "subslide"
    }
   },
   "source": [
    "```\n",
    "data/iris.rdata:\n",
    "     Rscript -e 'data(iris); save(iris, file=\\\"data/iris.rdata\\\")'\n",
    "\n",
    "data/train.rdata data/test.rdata: data/iris.rdata src/train_test_split.r\n",
    "     Rscript src/train_test_split.r\n",
    "\n",
    "models/logreg.rdata: data/train.rdata src/logreg.r\n",
    "     Rscript src/logreg.r\n",
    "     \n",
    "reports/confusion_matrix.txt: models/logreg.rdata data/test.rdata\n",
    "     Rscript src/eval_model.r models/logreg.rdata\n",
    "```"
   ]
  },
  {
   "cell_type": "code",
   "execution_count": 7,
   "metadata": {
    "collapsed": true,
    "slideshow": {
     "slide_type": "subslide"
    }
   },
   "outputs": [],
   "source": [
    "makefile = \"\"\"\n",
    "data/iris.rdata:\n",
    "     Rscript -e 'data(iris); save(iris, file=\\\"data/iris.rdata\\\")'\n",
    "\n",
    "data/train.rdata data/test.rdata: data/iris.rdata src/train_test_split.r\n",
    "     Rscript src/train_test_split.r\n",
    "\n",
    "models/logreg.rdata: data/train.rdata src/logreg.r\n",
    "     Rscript src/logreg.r\n",
    "     \n",
    "reports/confusion_matrix.txt: models/logreg.rdata data/test.rdata\n",
    "     Rscript src/eval_model.r models/logreg.rdata\n",
    "\"\"\""
   ]
  },
  {
   "cell_type": "code",
   "execution_count": 8,
   "metadata": {
    "collapsed": false,
    "slideshow": {
     "slide_type": "subslide"
    }
   },
   "outputs": [
    {
     "data": {
      "image/png": "[encoded data removed]",
      "text/plain": [
       "<matplotlib.figure.Figure at 0x79782b0>"
      ]
     },
     "metadata": {},
     "output_type": "display_data"
    }
   ],
   "source": [
    "lines = makefile.split('\\n')\n",
    "rules = [line for line in lines if ':' in line]\n",
    "\n",
    "g = nx.DiGraph()\n",
    "for rule in rules:\n",
    "    tgts, deps = rule.split(':')\n",
    "    for tgt in tgts.split():\n",
    "        for dep in deps.split():\n",
    "            g.add_edge(dep, tgt)\n",
    "\n",
    "np.random.seed(10)\n",
    "nx.draw(g, with_labels='true')"
   ]
  },
  {
   "cell_type": "markdown",
   "metadata": {},
   "source": [
    "## Pros:\n",
    "\n",
    "* Make will automatically identify what needs to be rebuilt and only run the pipeline from there\n",
    "* Dependencies are explicit\n",
    "\n",
    "## Cons\n",
    "\n",
    "* As the project grows, so will the make file\n",
    "  * For every model candidate we want to try, we need to add two rules to the make file"
   ]
  },
  {
   "cell_type": "markdown",
   "metadata": {
    "slideshow": {
     "slide_type": "subslide"
    }
   },
   "source": [
    "## Let Make do the work\n",
    "* Generalize pipeline steps with pattern rules and scripts that take arguments\n",
    "* Invoke Make to infer files pipeline needs to create\n",
    "    * Standardized naming conventions \n",
    "    * Semantic folder structure\n",
    "    * `$(patsubst ... $(wildcard ...))`"
   ]
  },
  {
   "cell_type": "markdown",
   "metadata": {
    "slideshow": {
     "slide_type": "subslide"
    }
   },
   "source": [
    "```\n",
    "############################\n",
    "## Project specific rules ##\n",
    "############################\n",
    "\n",
    "data/iris.rdata:\n",
    "     Rscript -e 'data(iris); base_table <- iris; save(base_table, file=\\\"data/base_table.rdata\\\")'\n",
    "```"
   ]
  },
  {
   "cell_type": "markdown",
   "metadata": {
    "slideshow": {
     "slide_type": "fragment"
    }
   },
   "source": [
    "```\n",
    "\n",
    "###################\n",
    "## General rules ##\n",
    "###################\n",
    "\n",
    "r_model_specs := $(wildcard $src/models/*.r)\n",
    "r_mod_names := $(notdir $(r_model_specs))\n",
    "r_reports := $(patsubst %,reports/%_confusion_matrix.txt, $(r_mod_names))\n",
    "\n",
    ".PHONY:all\n",
    "all: $(r_reports)\n",
    "```"
   ]
  },
  {
   "cell_type": "markdown",
   "metadata": {
    "slideshow": {
     "slide_type": "fragment"
    }
   },
   "source": [
    "``` \n",
    "\n",
    "data/train.rdata data/test.rdata: data/base_table.rdata src/train_test_split.r\n",
    "     Rscript src/train_test_split.r $<\n",
    "\n",
    "models/%.rdata: src/models/%.r train_and_save_model.r data/train.rdata \n",
    "     Rscript build_model.r $<\n",
    "     \n",
    "reports/%_confusion_matrix.txt: models/%.rdata data/test.rdata\n",
    "     Rscript src/eval_model.r $<     \n",
    "```"
   ]
  },
  {
   "cell_type": "markdown",
   "metadata": {
    "slideshow": {
     "slide_type": "subslide"
    }
   },
   "source": [
    "## What did we just gain?\n",
    "\n",
    "* For every script matching the file name `src/model/modelName.r`, Make will automatically: \n",
    "  * Save a trained model object to `models/modelName.rdata`\n",
    "  * Save a confusion matrix to `reports/modelName.r_confusion_matrix.txt`"
   ]
  },
  {
   "cell_type": "markdown",
   "metadata": {
    "slideshow": {
     "slide_type": "subslide"
    }
   },
   "source": [
    "## Multiple modeling tasks\n",
    "\n",
    "* Modeling tasks identifiable by a unique base table\n",
    "* Project identifiable by data/features common to one or more base tables\n",
    "* Recursive Make vs. Non-recursive make\n",
    "  * Performance gains\n",
    "  * Project standardization"
   ]
  },
  {
   "cell_type": "markdown",
   "metadata": {
    "slideshow": {
     "slide_type": "subslide"
    }
   },
   "source": [
    "* Top level Makefile defines common variables and traverses project\n",
    " \n",
    "```\n",
    "## proectName/Makefile ##\n",
    "\n",
    "train_data=data/processed/train.rdata\n",
    "test_data=data/processed/test.rdata\n",
    "abt=data/processed/analyticBaseTable.rdata\n",
    "abt_script=src/data/build_base_table.r\n",
    "R_INTERPRETER=Rscript\n",
    "\n",
    "MODULES=$(patsubst ./%/Makefile,%, $(filter ./%/Makefile,  $(shell find . -type f -name 'Makefile')))\n",
    "include $(addsuffix /Makefile,$(MODULES))\n",
    "\n",
    ".PHONY all\n",
    "all::\n",
    "```\n"
   ]
  },
  {
   "cell_type": "markdown",
   "metadata": {
    "slideshow": {
     "slide_type": "subslide"
    }
   },
   "source": [
    "* Makefile \"header\" identifies current location in a variable\n",
    "* Default ABT rule can be overriden\n",
    "\n",
    "```\n",
    "## projectName/_header.mak ##\n",
    "\n",
    "_MAKEFILES := $(filter-out _header.mak _footer.mak,$(MAKEFILE_LIST))\n",
    "_MODULE := $(patsubst %/,%,$(dir $(word $(words $(_MAKEFILES)),$(_MAKEFILES))))\n",
    "\n",
    "$(_MODULE)/$(abt): $(_MODULE)/$(abt_script) common/data/processed/features.rdata\n",
    "\t$(R_INTERPRETER) $<\n",
    "```"
   ]
  },
  {
   "cell_type": "markdown",
   "metadata": {
    "slideshow": {
     "slide_type": "subslide"
    }
   },
   "source": [
    "* Task-specific Makefile just needs to be a skeleton \n",
    "* Can be used to override defaults\n",
    "\n",
    "```\n",
    "## projectName/taskName/Makefile ##\n",
    "\n",
    "include _header.mak\n",
    "\n",
    "$(_MODULE)/$(abt): $(_MODULE)/$(abt_script) common/data/processed/other_features.rdata\n",
    "\t$(R_INTERPRETER) $<\n",
    "\n",
    "include _footer.mak\n",
    "```"
   ]
  },
  {
   "cell_type": "markdown",
   "metadata": {
    "slideshow": {
     "slide_type": "subslide"
    }
   },
   "source": [
    "* Makefile \"footer\" does most of the work\n",
    "* Task directory resolved into targets and recipes\n",
    "\n",
    "```\n",
    "## projectName/_footer.mak\n",
    "\n",
    "r_model_specs := $(wildcard $(_MODULE)/src/models/*.r)\n",
    "r_mod_names := $(notdir $(r_model_specs))\n",
    "r_test_acc := $(patsubst %,reports/%_confusion_matrix.txt, $(r_mod_names))\n",
    "\n",
    "TGTS += $(abt) $(train_data) $(test_data) \n",
    "TGTS += $(patsubst %,models/%data, $(r_mod_names))\n",
    "TGTS += $(r_test_acc)\n",
    "\n",
    "$(_MODULE)/reports/%.r_confusion_matrix.txt: $(_MODULE)/models/%.rdata $(_MODULE)/$(test_data) common/src/eval/eval_model.r\n",
    "\t$(R_INTERPRETER) common/src/eval/eval_model.r $@    \n",
    "\n",
    "$(_MODULE)/models/%.rdata: $(_MODULE)/src/models/%.r common/src/utils/train_and_save_model.r $(_MODULE)/$(train_data)\n",
    "\t$(R_INTERPRETER) common/src/utils/train_and_save_model.r $@\n",
    "    \n",
    "$(_MODULE)/$(train_data) $(_MODULE)/$(test_data): $(_MODULE)/$(abt) common/src/data/train_test_split.r\n",
    "\t$(R_INTERPRETER) common/src/data/train_test_split.r $<\n",
    "\n",
    "$(_MODULE)_TGTS := $(addprefix $($(_MODULE)_OUTPUT)/,$(TGTS))\n",
    "\n",
    "$(_MODULE): $($(_MODULE)_TGTS)\n",
    "\n",
    "all:: $(_MODULE)\n",
    "```"
   ]
  },
  {
   "cell_type": "markdown",
   "metadata": {
    "slideshow": {
     "slide_type": "slide"
    }
   },
   "source": [
    "# The Demo\n",
    "\n",
    "https://github.com/dmarx/make_for_datascience"
   ]
  },
  {
   "cell_type": "markdown",
   "metadata": {
    "slideshow": {
     "slide_type": "subslide"
    }
   },
   "source": [
    "## Using the demo\n",
    "\n",
    "* Common data pre-processing steps need to be specified in `projectName/common/Makefile`\n",
    "* To create a new modeling task:\n",
    "  * Create a new folder under the project directory\n",
    "  * Create a skeleton Makefile importing `_header.mak` and `_footer.mak`\n",
    "  * Define model specifications in `projectName/taskName/src/models/modelName.r`\n",
    "      * \"Model specification\" = `train_model()` and `predict_model()`\n",
    "      \n",
    "## Features\n",
    "\n",
    "* Data profiling of all ABTs, profiles stored in DB with date and current commit\n",
    "* ABT formulation is structured to mitigate downstream future leaks\n",
    "* Each ABT split into a training and holdout set\n",
    "* All models evaluated by a common statistic. Project-wide default can be overriden for a task-specific statistic\n",
    "* Evaluation statistic subjected to bootstrapping and target shuffling for each model\n",
    "* Model objects saved using full training data, old model objects optionally archived\n",
    "* Confusion matrix against holdout data for each model\n",
    "* All evaluation results persisted in database, logging task, model, date, and HEAD commit"
   ]
  },
  {
   "cell_type": "markdown",
   "metadata": {
    "slideshow": {
     "slide_type": "subslide"
    }
   },
   "source": [
    "## What's good\n",
    "\n",
    "* Lots of features\n",
    "* Only R is fully implemented, but easily extendible to other languages\n",
    "\n",
    "## What's missing\n",
    "\n",
    "* Permutations of sub-sequences not really supported \n",
    "  * E.g. we want to experiment with 2 imputation and 3 feature selection techniques\n",
    "  * If we want to bootstrap over this whole process (we do), we need to wrap these steps in train_model() function\n",
    "  * 6 model spec files for each model (should only be 1)\n",
    "  * Imputation and features selection disguised from pipeline\n",
    "* We have object level data provenance is explicit, but *feature* provenance is not\n",
    "  * https://github.com/machinalis/featureforge\n"
   ]
  }
 ],
 "metadata": {
  "celltoolbar": "Slideshow",
  "kernelspec": {
   "display_name": "Python 2",
   "language": "python",
   "name": "python2"
  },
  "language_info": {
   "codemirror_mode": {
    "name": "ipython",
    "version": 2
   },
   "file_extension": ".py",
   "mimetype": "text/x-python",
   "name": "python",
   "nbconvert_exporter": "python",
   "pygments_lexer": "ipython2",
   "version": "2.7.11"
  }
 },
 "nbformat": 4,
 "nbformat_minor": 2
}
